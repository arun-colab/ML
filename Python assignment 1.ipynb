{
 "cells": [
  {
   "cell_type": "markdown",
   "id": "cd1a25f0",
   "metadata": {},
   "source": [
    "1) WRITE A PROGRAM WHICH WILL FIND ALL SUCH NUMBERS WHICH ARE DIVISIBLE BY 7 BUT ARE NOT A MULTIPLE OF 5, BETWEEN 2000 AND 3000 (BOTH INCLUDED). THE NUMBERS OBTAINED SHOULD BE PRINTED IN A COMMA - SEPARATED SEQUENCE ON A SINGLE LINE."
   ]
  },
  {
   "cell_type": "code",
   "execution_count": 14,
   "id": "db382263",
   "metadata": {},
   "outputs": [
    {
     "name": "stdout",
     "output_type": "stream",
     "text": [
      "[2002, 2009, 2016, 2023, 2037, 2044, 2051, 2058, 2072, 2079, 2086, 2093, 2107, 2114, 2121, 2128, 2142, 2149, 2156, 2163, 2177, 2184, 2191, 2198, 2212, 2219, 2226, 2233, 2247, 2254, 2261, 2268, 2282, 2289, 2296, 2303, 2317, 2324, 2331, 2338, 2352, 2359, 2366, 2373, 2387, 2394, 2401, 2408, 2422, 2429, 2436, 2443, 2457, 2464, 2471, 2478, 2492, 2499, 2506, 2513, 2527, 2534, 2541, 2548, 2562, 2569, 2576, 2583, 2597, 2604, 2611, 2618, 2632, 2639, 2646, 2653, 2667, 2674, 2681, 2688, 2702, 2709, 2716, 2723, 2737, 2744, 2751, 2758, 2772, 2779, 2786, 2793, 2807, 2814, 2821, 2828, 2842, 2849, 2856, 2863, 2877, 2884, 2891, 2898, 2912, 2919, 2926, 2933, 2947, 2954, 2961, 2968, 2982, 2989, 2996]\n"
     ]
    }
   ],
   "source": [
    "n1=[]\n",
    "for i in range(2000,3001):\n",
    "    if (i%7==0) and (i%5!=0):\n",
    "        n1.append(i)\n",
    "        \n",
    "print(n1)"
   ]
  },
  {
   "cell_type": "code",
   "execution_count": null,
   "id": "4eeedf2d",
   "metadata": {},
   "outputs": [],
   "source": []
  },
  {
   "cell_type": "markdown",
   "id": "c6a10a14",
   "metadata": {},
   "source": [
    "2) WRITE A PROGRAM PROGRAM TO ACCEPT THE USER'S FIRST AND LAST NAME AND THEN GETTING THEM PRINTED IN THE REVERSE ORDER WITH A SPACE BETWEEN FIRST NAME AND LAST NAME."
   ]
  },
  {
   "cell_type": "code",
   "execution_count": null,
   "id": "52e0e576",
   "metadata": {},
   "outputs": [],
   "source": []
  },
  {
   "cell_type": "code",
   "execution_count": 19,
   "id": "047dd5d9",
   "metadata": {},
   "outputs": [
    {
     "name": "stdout",
     "output_type": "stream",
     "text": [
      "your first name Arun\n",
      "your second name Roy\n",
      "yoR nurA \n"
     ]
    }
   ],
   "source": [
    "s=''\n",
    "fst_name =input(\"your first name\")\n",
    "scnd_name = input(\"your second name\")\n",
    "print(scnd_name[::-1] +'' +fst_name[::-1])\n",
    "\n",
    "\n",
    "\n",
    "\n"
   ]
  },
  {
   "cell_type": "code",
   "execution_count": null,
   "id": "f5837dac",
   "metadata": {},
   "outputs": [],
   "source": []
  },
  {
   "cell_type": "code",
   "execution_count": null,
   "id": "5ddbcf88",
   "metadata": {},
   "outputs": [],
   "source": []
  },
  {
   "cell_type": "markdown",
   "id": "5a3e46f3",
   "metadata": {},
   "source": [
    "3) WRITE A PYTHON PROGRAM TO FIND THE VOLUME OF A SPHERE WITH DIAMETER 12 CM\n",
    "FORMULA: V=4/3 *pi * r^3"
   ]
  },
  {
   "cell_type": "code",
   "execution_count": 26,
   "id": "4b0f4e58",
   "metadata": {},
   "outputs": [
    {
     "name": "stdout",
     "output_type": "stream",
     "text": [
      "The volume of the sphere is  905.142857142857\n"
     ]
    }
   ],
   "source": [
    "d=12\n",
    "r=d/2\n",
    "pi=22/7\n",
    "v=4/3* pi *r**3\n",
    "print(\"The volume of the sphere is \",v)"
   ]
  },
  {
   "cell_type": "code",
   "execution_count": null,
   "id": "289a944d",
   "metadata": {},
   "outputs": [],
   "source": [
    "\n"
   ]
  },
  {
   "cell_type": "code",
   "execution_count": null,
   "id": "a4951b0a",
   "metadata": {},
   "outputs": [],
   "source": []
  },
  {
   "cell_type": "code",
   "execution_count": null,
   "id": "abb6edcd",
   "metadata": {},
   "outputs": [],
   "source": []
  },
  {
   "cell_type": "code",
   "execution_count": null,
   "id": "ea20f673",
   "metadata": {},
   "outputs": [],
   "source": []
  }
 ],
 "metadata": {
  "kernelspec": {
   "display_name": "Python 3 (ipykernel)",
   "language": "python",
   "name": "python3"
  },
  "language_info": {
   "codemirror_mode": {
    "name": "ipython",
    "version": 3
   },
   "file_extension": ".py",
   "mimetype": "text/x-python",
   "name": "python",
   "nbconvert_exporter": "python",
   "pygments_lexer": "ipython3",
   "version": "3.10.9"
  }
 },
 "nbformat": 4,
 "nbformat_minor": 5
}
